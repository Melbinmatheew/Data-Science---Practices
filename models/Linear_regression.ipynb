{
 "cells": [
  {
   "cell_type": "markdown",
   "metadata": {},
   "source": [
    "### Import Neccesory Libraries"
   ]
  },
  {
   "cell_type": "code",
   "execution_count": 14,
   "metadata": {},
   "outputs": [],
   "source": [
    "import numpy as np\n",
    "import pandas as pd\n",
    "import mlflow\n",
    "import mlflow.sklearn\n",
    "from sklearn.linear_model import LinearRegression\n",
    "from sklearn.model_selection import train_test_split\n",
    "from sklearn.metrics import mean_squared_error\n"
   ]
  },
  {
   "cell_type": "code",
   "execution_count": 15,
   "metadata": {},
   "outputs": [
    {
     "data": {
      "text/html": [
       "<div>\n",
       "<style scoped>\n",
       "    .dataframe tbody tr th:only-of-type {\n",
       "        vertical-align: middle;\n",
       "    }\n",
       "\n",
       "    .dataframe tbody tr th {\n",
       "        vertical-align: top;\n",
       "    }\n",
       "\n",
       "    .dataframe thead th {\n",
       "        text-align: right;\n",
       "    }\n",
       "</style>\n",
       "<table border=\"1\" class=\"dataframe\">\n",
       "  <thead>\n",
       "    <tr style=\"text-align: right;\">\n",
       "      <th></th>\n",
       "      <th>Amount in rupees</th>\n",
       "      <th>Price (in rupees)</th>\n",
       "      <th>location</th>\n",
       "      <th>Carpet Area in sqft</th>\n",
       "      <th>Floor</th>\n",
       "      <th>Transaction</th>\n",
       "      <th>Furnishing</th>\n",
       "      <th>facing</th>\n",
       "      <th>overlooking</th>\n",
       "      <th>Bathroom</th>\n",
       "      <th>Balcony</th>\n",
       "      <th>Ownership</th>\n",
       "    </tr>\n",
       "  </thead>\n",
       "  <tbody>\n",
       "    <tr>\n",
       "      <th>0</th>\n",
       "      <td>-0.202606</td>\n",
       "      <td>-6.108617e-02</td>\n",
       "      <td>1.881061</td>\n",
       "      <td>-0.333482</td>\n",
       "      <td>-1.415544</td>\n",
       "      <td>0.547069</td>\n",
       "      <td>1.076630</td>\n",
       "      <td>1.063822</td>\n",
       "      <td>1.057353</td>\n",
       "      <td>-1.653261</td>\n",
       "      <td>-0.000319</td>\n",
       "      <td>1.341873</td>\n",
       "    </tr>\n",
       "    <tr>\n",
       "      <th>1</th>\n",
       "      <td>-0.056796</td>\n",
       "      <td>2.397217e-01</td>\n",
       "      <td>1.881061</td>\n",
       "      <td>-0.345214</td>\n",
       "      <td>0.378898</td>\n",
       "      <td>0.547069</td>\n",
       "      <td>-0.458287</td>\n",
       "      <td>-1.146945</td>\n",
       "      <td>-1.327164</td>\n",
       "      <td>-0.492814</td>\n",
       "      <td>-0.000319</td>\n",
       "      <td>-0.743276</td>\n",
       "    </tr>\n",
       "    <tr>\n",
       "      <th>2</th>\n",
       "      <td>0.052560</td>\n",
       "      <td>3.824695e-01</td>\n",
       "      <td>1.881061</td>\n",
       "      <td>-0.212259</td>\n",
       "      <td>-1.352335</td>\n",
       "      <td>0.547069</td>\n",
       "      <td>1.076630</td>\n",
       "      <td>-1.146945</td>\n",
       "      <td>-1.327164</td>\n",
       "      <td>-0.492814</td>\n",
       "      <td>-0.000319</td>\n",
       "      <td>-0.743276</td>\n",
       "    </tr>\n",
       "    <tr>\n",
       "      <th>3</th>\n",
       "      <td>-0.246869</td>\n",
       "      <td>1.052378e-16</td>\n",
       "      <td>1.881061</td>\n",
       "      <td>-0.320448</td>\n",
       "      <td>-1.471730</td>\n",
       "      <td>0.547069</td>\n",
       "      <td>1.076630</td>\n",
       "      <td>1.063822</td>\n",
       "      <td>1.057353</td>\n",
       "      <td>-1.653261</td>\n",
       "      <td>-1.223020</td>\n",
       "      <td>1.341873</td>\n",
       "    </tr>\n",
       "    <tr>\n",
       "      <th>4</th>\n",
       "      <td>0.104635</td>\n",
       "      <td>4.335362e-01</td>\n",
       "      <td>1.881061</td>\n",
       "      <td>-0.274826</td>\n",
       "      <td>-0.218078</td>\n",
       "      <td>0.547069</td>\n",
       "      <td>1.076630</td>\n",
       "      <td>1.379645</td>\n",
       "      <td>-1.201663</td>\n",
       "      <td>-0.492814</td>\n",
       "      <td>-0.000319</td>\n",
       "      <td>-1.438326</td>\n",
       "    </tr>\n",
       "  </tbody>\n",
       "</table>\n",
       "</div>"
      ],
      "text/plain": [
       "   Amount in rupees  Price (in rupees)  location  Carpet Area in sqft  \\\n",
       "0         -0.202606      -6.108617e-02  1.881061            -0.333482   \n",
       "1         -0.056796       2.397217e-01  1.881061            -0.345214   \n",
       "2          0.052560       3.824695e-01  1.881061            -0.212259   \n",
       "3         -0.246869       1.052378e-16  1.881061            -0.320448   \n",
       "4          0.104635       4.335362e-01  1.881061            -0.274826   \n",
       "\n",
       "      Floor  Transaction  Furnishing    facing  overlooking  Bathroom  \\\n",
       "0 -1.415544     0.547069    1.076630  1.063822     1.057353 -1.653261   \n",
       "1  0.378898     0.547069   -0.458287 -1.146945    -1.327164 -0.492814   \n",
       "2 -1.352335     0.547069    1.076630 -1.146945    -1.327164 -0.492814   \n",
       "3 -1.471730     0.547069    1.076630  1.063822     1.057353 -1.653261   \n",
       "4 -0.218078     0.547069    1.076630  1.379645    -1.201663 -0.492814   \n",
       "\n",
       "    Balcony  Ownership  \n",
       "0 -0.000319   1.341873  \n",
       "1 -0.000319  -0.743276  \n",
       "2 -0.000319  -0.743276  \n",
       "3 -1.223020   1.341873  \n",
       "4 -0.000319  -1.438326  "
      ]
     },
     "execution_count": 15,
     "metadata": {},
     "output_type": "execute_result"
    }
   ],
   "source": [
    "df = pd.read_csv(\"/teamspace/studios/this_studio/Data-Science---Practices/data/final_dataset.csv\")\n",
    "df.head()"
   ]
  },
  {
   "cell_type": "markdown",
   "metadata": {},
   "source": [
    "### Data splitting"
   ]
  },
  {
   "cell_type": "code",
   "execution_count": 16,
   "metadata": {},
   "outputs": [],
   "source": [
    "X = df.drop(columns=['Amount in rupees'])\n",
    "y = df['Amount in rupees']"
   ]
  },
  {
   "cell_type": "markdown",
   "metadata": {},
   "source": [
    "### Train test split"
   ]
  },
  {
   "cell_type": "code",
   "execution_count": 17,
   "metadata": {},
   "outputs": [],
   "source": [
    "x_train, x_test, y_train, y_test = train_test_split(X,y , test_size =0.2, random_state =42)"
   ]
  },
  {
   "cell_type": "code",
   "execution_count": null,
   "metadata": {},
   "outputs": [],
   "source": []
  }
 ],
 "metadata": {
  "language_info": {
   "name": "python"
  }
 },
 "nbformat": 4,
 "nbformat_minor": 2
}
