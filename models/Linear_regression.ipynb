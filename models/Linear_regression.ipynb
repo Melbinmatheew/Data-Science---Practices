{
 "cells": [
  {
   "cell_type": "markdown",
   "metadata": {},
   "source": [
    "### Import Neccesory Libraries"
   ]
  },
  {
   "cell_type": "code",
   "execution_count": 48,
   "metadata": {},
   "outputs": [],
   "source": [
    "import numpy as np\n",
    "import pandas as pd\n",
    "import mlflow\n",
    "import mlflow.sklearn\n",
    "from sklearn.linear_model import LinearRegression\n",
    "from sklearn.model_selection import train_test_split, GridSearchCV\n",
    "from sklearn.metrics import mean_squared_error\n",
    "\n"
   ]
  },
  {
   "cell_type": "code",
   "execution_count": 49,
   "metadata": {},
   "outputs": [
    {
     "data": {
      "text/html": [
       "<div>\n",
       "<style scoped>\n",
       "    .dataframe tbody tr th:only-of-type {\n",
       "        vertical-align: middle;\n",
       "    }\n",
       "\n",
       "    .dataframe tbody tr th {\n",
       "        vertical-align: top;\n",
       "    }\n",
       "\n",
       "    .dataframe thead th {\n",
       "        text-align: right;\n",
       "    }\n",
       "</style>\n",
       "<table border=\"1\" class=\"dataframe\">\n",
       "  <thead>\n",
       "    <tr style=\"text-align: right;\">\n",
       "      <th></th>\n",
       "      <th>Amount in rupees</th>\n",
       "      <th>Price (in rupees)</th>\n",
       "      <th>location</th>\n",
       "      <th>Carpet Area in sqft</th>\n",
       "      <th>Floor</th>\n",
       "      <th>Transaction</th>\n",
       "      <th>Furnishing</th>\n",
       "      <th>facing</th>\n",
       "      <th>overlooking</th>\n",
       "      <th>Bathroom</th>\n",
       "      <th>Balcony</th>\n",
       "      <th>Ownership</th>\n",
       "    </tr>\n",
       "  </thead>\n",
       "  <tbody>\n",
       "    <tr>\n",
       "      <th>0</th>\n",
       "      <td>-0.202606</td>\n",
       "      <td>-6.108617e-02</td>\n",
       "      <td>1.881061</td>\n",
       "      <td>-0.333482</td>\n",
       "      <td>-1.415544</td>\n",
       "      <td>0.547069</td>\n",
       "      <td>1.076630</td>\n",
       "      <td>1.063822</td>\n",
       "      <td>1.057353</td>\n",
       "      <td>-1.653261</td>\n",
       "      <td>-0.000319</td>\n",
       "      <td>1.341873</td>\n",
       "    </tr>\n",
       "    <tr>\n",
       "      <th>1</th>\n",
       "      <td>-0.056796</td>\n",
       "      <td>2.397217e-01</td>\n",
       "      <td>1.881061</td>\n",
       "      <td>-0.345214</td>\n",
       "      <td>0.378898</td>\n",
       "      <td>0.547069</td>\n",
       "      <td>-0.458287</td>\n",
       "      <td>-1.146945</td>\n",
       "      <td>-1.327164</td>\n",
       "      <td>-0.492814</td>\n",
       "      <td>-0.000319</td>\n",
       "      <td>-0.743276</td>\n",
       "    </tr>\n",
       "    <tr>\n",
       "      <th>2</th>\n",
       "      <td>0.052560</td>\n",
       "      <td>3.824695e-01</td>\n",
       "      <td>1.881061</td>\n",
       "      <td>-0.212259</td>\n",
       "      <td>-1.352335</td>\n",
       "      <td>0.547069</td>\n",
       "      <td>1.076630</td>\n",
       "      <td>-1.146945</td>\n",
       "      <td>-1.327164</td>\n",
       "      <td>-0.492814</td>\n",
       "      <td>-0.000319</td>\n",
       "      <td>-0.743276</td>\n",
       "    </tr>\n",
       "    <tr>\n",
       "      <th>3</th>\n",
       "      <td>-0.246869</td>\n",
       "      <td>1.052378e-16</td>\n",
       "      <td>1.881061</td>\n",
       "      <td>-0.320448</td>\n",
       "      <td>-1.471730</td>\n",
       "      <td>0.547069</td>\n",
       "      <td>1.076630</td>\n",
       "      <td>1.063822</td>\n",
       "      <td>1.057353</td>\n",
       "      <td>-1.653261</td>\n",
       "      <td>-1.223020</td>\n",
       "      <td>1.341873</td>\n",
       "    </tr>\n",
       "    <tr>\n",
       "      <th>4</th>\n",
       "      <td>0.104635</td>\n",
       "      <td>4.335362e-01</td>\n",
       "      <td>1.881061</td>\n",
       "      <td>-0.274826</td>\n",
       "      <td>-0.218078</td>\n",
       "      <td>0.547069</td>\n",
       "      <td>1.076630</td>\n",
       "      <td>1.379645</td>\n",
       "      <td>-1.201663</td>\n",
       "      <td>-0.492814</td>\n",
       "      <td>-0.000319</td>\n",
       "      <td>-1.438326</td>\n",
       "    </tr>\n",
       "  </tbody>\n",
       "</table>\n",
       "</div>"
      ],
      "text/plain": [
       "   Amount in rupees  Price (in rupees)  location  Carpet Area in sqft  \\\n",
       "0         -0.202606      -6.108617e-02  1.881061            -0.333482   \n",
       "1         -0.056796       2.397217e-01  1.881061            -0.345214   \n",
       "2          0.052560       3.824695e-01  1.881061            -0.212259   \n",
       "3         -0.246869       1.052378e-16  1.881061            -0.320448   \n",
       "4          0.104635       4.335362e-01  1.881061            -0.274826   \n",
       "\n",
       "      Floor  Transaction  Furnishing    facing  overlooking  Bathroom  \\\n",
       "0 -1.415544     0.547069    1.076630  1.063822     1.057353 -1.653261   \n",
       "1  0.378898     0.547069   -0.458287 -1.146945    -1.327164 -0.492814   \n",
       "2 -1.352335     0.547069    1.076630 -1.146945    -1.327164 -0.492814   \n",
       "3 -1.471730     0.547069    1.076630  1.063822     1.057353 -1.653261   \n",
       "4 -0.218078     0.547069    1.076630  1.379645    -1.201663 -0.492814   \n",
       "\n",
       "    Balcony  Ownership  \n",
       "0 -0.000319   1.341873  \n",
       "1 -0.000319  -0.743276  \n",
       "2 -0.000319  -0.743276  \n",
       "3 -1.223020   1.341873  \n",
       "4 -0.000319  -1.438326  "
      ]
     },
     "execution_count": 49,
     "metadata": {},
     "output_type": "execute_result"
    }
   ],
   "source": [
    "df = pd.read_csv(r\"D:\\Melbin\\SELF\\House-Price-Prediction\\data\\final_dataset.csv\")\n",
    "df.head()"
   ]
  },
  {
   "cell_type": "markdown",
   "metadata": {},
   "source": [
    "### Data splitting"
   ]
  },
  {
   "cell_type": "code",
   "execution_count": 50,
   "metadata": {},
   "outputs": [],
   "source": [
    "X = df.drop(columns=['Amount in rupees'])\n",
    "y = df['Amount in rupees']"
   ]
  },
  {
   "cell_type": "markdown",
   "metadata": {},
   "source": [
    "### Train test split"
   ]
  },
  {
   "cell_type": "code",
   "execution_count": 51,
   "metadata": {},
   "outputs": [],
   "source": [
    "from urllib.parse import urlparse\n",
    "\n",
    "x_train, x_test, y_train, y_test = train_test_split(X,y , test_size =0.2, random_state =42)"
   ]
  },
  {
   "cell_type": "code",
   "execution_count": null,
   "metadata": {},
   "outputs": [],
   "source": [
    "## Hyperparameter Tuning using Grid Search\n",
    "\n",
    "def hyperparameter_tuning(x_train, y_train):\n",
    "    param_grid = {\n",
    "        'fit_intercept': [True, False],\n",
    "        'positive': [True, False]\n",
    "\n",
    "    }\n",
    "    grid_search = GridSearchCV(LinearRegression(), param_grid, cv=5, scoring='neg_mean_squared_error')\n",
    "    grid_search.fit(x_train, y_train)\n",
    "    \n",
    "    return grid_search\n"
   ]
  },
  {
   "cell_type": "code",
   "execution_count": 53,
   "metadata": {},
   "outputs": [
    {
     "name": "stderr",
     "output_type": "stream",
     "text": [
      "2025/06/02 17:17:05 INFO mlflow.tracking.fluent: Experiment with name 'House_Price_Prediction' does not exist. Creating a new experiment.\n",
      "2025/06/02 17:17:08 WARNING mlflow.utils.environment: Failed to resolve installed pip version. ``pip`` will be added to conda.yaml environment spec without a version specifier.\n"
     ]
    },
    {
     "name": "stdout",
     "output_type": "stream",
     "text": [
      "Best parameters: {'fit_intercept': False, 'positive': False}\n",
      "Mean Squared Error: 0.05652426166888758\n",
      "Best Model: LinearRegression(fit_intercept=False)\n"
     ]
    },
    {
     "name": "stderr",
     "output_type": "stream",
     "text": [
      "2025/06/02 17:17:10 WARNING mlflow.utils.environment: Failed to resolve installed pip version. ``pip`` will be added to conda.yaml environment spec without a version specifier.\n",
      "2025/06/02 17:17:10 WARNING mlflow.models.model: Model logged without a signature and input example. Please set `input_example` parameter when logging the model to auto infer the model signature.\n",
      "Successfully registered model 'Best_Linear_Regression_Model'.\n",
      "2025/06/02 17:17:10 INFO mlflow.store.model_registry.abstract_store: Waiting up to 300 seconds for model version to finish creation. Model name: Best_Linear_Regression_Model, version 1\n"
     ]
    },
    {
     "name": "stdout",
     "output_type": "stream",
     "text": [
      "🏃 View run hilarious-fox-586 at: http://127.0.0.1:5000/#/experiments/841662411988765565/runs/e0de9d0a7c644867b522b137404d2cb5\n",
      "🧪 View experiment at: http://127.0.0.1:5000/#/experiments/841662411988765565\n"
     ]
    },
    {
     "name": "stderr",
     "output_type": "stream",
     "text": [
      "Created version '1' of model 'Best_Linear_Regression_Model'.\n"
     ]
    }
   ],
   "source": [
    "from mlflow.models import infer_signature\n",
    "\n",
    "signature = infer_signature(x_train, y_train)\n",
    "\n",
    "# Set experiment BEFORE starting the run\n",
    "mlflow.set_experiment(\"House_Price_Prediction\")\n",
    "\n",
    "##Define the hperparameter grid\n",
    "params = {\n",
    "    'fit_intercept': [True, False],\n",
    "     'positive': [True, False]\n",
    "\n",
    "}\n",
    "\n",
    "## Start MLflow experiment\n",
    "with mlflow.start_run():\n",
    "\n",
    "    \n",
    "    # Log parameters\n",
    "    mlflow.log_params({\"param_grid_fit_intercept\": params[\"fit_intercept\"],\n",
    "                       \"param_grid_positive\": params[\"positive\"]})\n",
    "    \n",
    "    # Hyperparameter tuning\n",
    "    grid_search = hyperparameter_tuning(x_train, y_train)\n",
    "    \n",
    "    # Get the best model\n",
    "    best_model = grid_search.best_estimator_\n",
    "    \n",
    "    # Log the best model\n",
    "    mlflow.sklearn.log_model(best_model, \"model\", signature=signature)\n",
    "    \n",
    "    # Make predictions\n",
    "    predictions = best_model.predict(x_test)\n",
    "    \n",
    "    # Calculate and log metrics\n",
    "    mse = mean_squared_error(y_test, predictions)\n",
    "    mlflow.log_metric(\"mse\", mse)\n",
    "    \n",
    "    # Print key results\n",
    "    print(\"Best parameters:\", grid_search.best_params_)\n",
    "    print(f\"Mean Squared Error: {mse}\")\n",
    "    print(f\"Best Model: {best_model}\")\n",
    "\n",
    "    # Log model to model registry if not local\n",
    "    mlflow.set_tracking_uri(\"http://127.0.0.1:5000\")  # should ideally be set before anything else\n",
    "    tracking_uri_type_store = urlparse(mlflow.get_tracking_uri()).scheme\n",
    "\n",
    "    if tracking_uri_type_store != \"file\":\n",
    "        mlflow.sklearn.log_model(best_model, \"model\", registered_model_name=\"Best_Linear_Regression_Model\")\n",
    "    else:\n",
    "        mlflow.sklearn.log_model(best_model, \"model\", signature=signature)"
   ]
  },
  {
   "cell_type": "code",
   "execution_count": null,
   "metadata": {},
   "outputs": [],
   "source": []
  }
 ],
 "metadata": {
  "kernelspec": {
   "display_name": ".venv",
   "language": "python",
   "name": "python3"
  },
  "language_info": {
   "codemirror_mode": {
    "name": "ipython",
    "version": 3
   },
   "file_extension": ".py",
   "mimetype": "text/x-python",
   "name": "python",
   "nbconvert_exporter": "python",
   "pygments_lexer": "ipython3",
   "version": "3.11.0"
  }
 },
 "nbformat": 4,
 "nbformat_minor": 2
}
