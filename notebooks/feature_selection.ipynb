{
 "cells": [
  {
   "cell_type": "markdown",
   "metadata": {},
   "source": [
    "### Feature Selection"
   ]
  },
  {
   "cell_type": "code",
   "execution_count": 1,
   "metadata": {},
   "outputs": [],
   "source": [
    "import numpy as np\n",
    "import pandas as pd\n"
   ]
  },
  {
   "cell_type": "code",
   "execution_count": 2,
   "metadata": {},
   "outputs": [],
   "source": [
    "df= pd.read_csv(r\"/teamspace/studios/this_studio/Data-Science---Practices/data/cleaned_house_prices.csv\")"
   ]
  },
  {
   "cell_type": "code",
   "execution_count": 3,
   "metadata": {},
   "outputs": [
    {
     "data": {
      "text/html": [
       "<div>\n",
       "<style scoped>\n",
       "    .dataframe tbody tr th:only-of-type {\n",
       "        vertical-align: middle;\n",
       "    }\n",
       "\n",
       "    .dataframe tbody tr th {\n",
       "        vertical-align: top;\n",
       "    }\n",
       "\n",
       "    .dataframe thead th {\n",
       "        text-align: right;\n",
       "    }\n",
       "</style>\n",
       "<table border=\"1\" class=\"dataframe\">\n",
       "  <thead>\n",
       "    <tr style=\"text-align: right;\">\n",
       "      <th></th>\n",
       "      <th>Index</th>\n",
       "      <th>Title</th>\n",
       "      <th>Description</th>\n",
       "      <th>Amount in rupees</th>\n",
       "      <th>Price (in rupees)</th>\n",
       "      <th>location</th>\n",
       "      <th>Carpet Area in sqft</th>\n",
       "      <th>Status</th>\n",
       "      <th>Floor</th>\n",
       "      <th>Transaction</th>\n",
       "      <th>Furnishing</th>\n",
       "      <th>facing</th>\n",
       "      <th>overlooking</th>\n",
       "      <th>Bathroom</th>\n",
       "      <th>Balcony</th>\n",
       "      <th>Ownership</th>\n",
       "    </tr>\n",
       "  </thead>\n",
       "  <tbody>\n",
       "    <tr>\n",
       "      <th>0</th>\n",
       "      <td>0</td>\n",
       "      <td>1 BHK Ready to Occupy Flat for sale in Srushti...</td>\n",
       "      <td>Bhiwandi, Thane has an attractive 1 BHK Flat f...</td>\n",
       "      <td>4200000.0</td>\n",
       "      <td>6000.000000</td>\n",
       "      <td>thane</td>\n",
       "      <td>500.0</td>\n",
       "      <td>Ready to Move</td>\n",
       "      <td>10 out of 11</td>\n",
       "      <td>Resale</td>\n",
       "      <td>Unfurnished</td>\n",
       "      <td>Unknown</td>\n",
       "      <td>Unknown</td>\n",
       "      <td>1</td>\n",
       "      <td>2</td>\n",
       "      <td>Unknown</td>\n",
       "    </tr>\n",
       "    <tr>\n",
       "      <th>1</th>\n",
       "      <td>1</td>\n",
       "      <td>2 BHK Ready to Occupy Flat for sale in Dosti V...</td>\n",
       "      <td>One can find this stunning 2 BHK flat for sale...</td>\n",
       "      <td>9800000.0</td>\n",
       "      <td>13799.000000</td>\n",
       "      <td>thane</td>\n",
       "      <td>473.0</td>\n",
       "      <td>Ready to Move</td>\n",
       "      <td>3 out of 22</td>\n",
       "      <td>Resale</td>\n",
       "      <td>Semi-Furnished</td>\n",
       "      <td>East</td>\n",
       "      <td>Garden/Park</td>\n",
       "      <td>2</td>\n",
       "      <td>2</td>\n",
       "      <td>Freehold</td>\n",
       "    </tr>\n",
       "    <tr>\n",
       "      <th>2</th>\n",
       "      <td>2</td>\n",
       "      <td>2 BHK Ready to Occupy Flat for sale in Sunrise...</td>\n",
       "      <td>Up for immediate sale is a 2 BHK apartment in ...</td>\n",
       "      <td>14000000.0</td>\n",
       "      <td>17500.000000</td>\n",
       "      <td>thane</td>\n",
       "      <td>779.0</td>\n",
       "      <td>Ready to Move</td>\n",
       "      <td>10 out of 29</td>\n",
       "      <td>Resale</td>\n",
       "      <td>Unfurnished</td>\n",
       "      <td>East</td>\n",
       "      <td>Garden/Park</td>\n",
       "      <td>2</td>\n",
       "      <td>2</td>\n",
       "      <td>Freehold</td>\n",
       "    </tr>\n",
       "    <tr>\n",
       "      <th>3</th>\n",
       "      <td>3</td>\n",
       "      <td>1 BHK Ready to Occupy Flat for sale Kasheli</td>\n",
       "      <td>This beautiful 1 BHK Flat is available for sal...</td>\n",
       "      <td>2500000.0</td>\n",
       "      <td>7583.771885</td>\n",
       "      <td>thane</td>\n",
       "      <td>530.0</td>\n",
       "      <td>Ready to Move</td>\n",
       "      <td>1 out of 3</td>\n",
       "      <td>Resale</td>\n",
       "      <td>Unfurnished</td>\n",
       "      <td>Unknown</td>\n",
       "      <td>Unknown</td>\n",
       "      <td>1</td>\n",
       "      <td>1</td>\n",
       "      <td>Unknown</td>\n",
       "    </tr>\n",
       "    <tr>\n",
       "      <th>4</th>\n",
       "      <td>4</td>\n",
       "      <td>2 BHK Ready to Occupy Flat for sale in TenX Ha...</td>\n",
       "      <td>This lovely 2 BHK Flat in Pokhran Road, Thane ...</td>\n",
       "      <td>16000000.0</td>\n",
       "      <td>18824.000000</td>\n",
       "      <td>thane</td>\n",
       "      <td>635.0</td>\n",
       "      <td>Ready to Move</td>\n",
       "      <td>20 out of 42</td>\n",
       "      <td>Resale</td>\n",
       "      <td>Unfurnished</td>\n",
       "      <td>West</td>\n",
       "      <td>Garden/Park, Main Road</td>\n",
       "      <td>2</td>\n",
       "      <td>2</td>\n",
       "      <td>Co-operative Society</td>\n",
       "    </tr>\n",
       "  </tbody>\n",
       "</table>\n",
       "</div>"
      ],
      "text/plain": [
       "   Index                                              Title  \\\n",
       "0      0  1 BHK Ready to Occupy Flat for sale in Srushti...   \n",
       "1      1  2 BHK Ready to Occupy Flat for sale in Dosti V...   \n",
       "2      2  2 BHK Ready to Occupy Flat for sale in Sunrise...   \n",
       "3      3        1 BHK Ready to Occupy Flat for sale Kasheli   \n",
       "4      4  2 BHK Ready to Occupy Flat for sale in TenX Ha...   \n",
       "\n",
       "                                         Description  Amount in rupees  \\\n",
       "0  Bhiwandi, Thane has an attractive 1 BHK Flat f...         4200000.0   \n",
       "1  One can find this stunning 2 BHK flat for sale...         9800000.0   \n",
       "2  Up for immediate sale is a 2 BHK apartment in ...        14000000.0   \n",
       "3  This beautiful 1 BHK Flat is available for sal...         2500000.0   \n",
       "4  This lovely 2 BHK Flat in Pokhran Road, Thane ...        16000000.0   \n",
       "\n",
       "   Price (in rupees) location  Carpet Area in sqft         Status  \\\n",
       "0        6000.000000    thane                500.0  Ready to Move   \n",
       "1       13799.000000    thane                473.0  Ready to Move   \n",
       "2       17500.000000    thane                779.0  Ready to Move   \n",
       "3        7583.771885    thane                530.0  Ready to Move   \n",
       "4       18824.000000    thane                635.0  Ready to Move   \n",
       "\n",
       "          Floor Transaction      Furnishing   facing             overlooking  \\\n",
       "0  10 out of 11      Resale     Unfurnished  Unknown                 Unknown   \n",
       "1   3 out of 22      Resale  Semi-Furnished     East             Garden/Park   \n",
       "2  10 out of 29      Resale     Unfurnished     East             Garden/Park   \n",
       "3    1 out of 3      Resale     Unfurnished  Unknown                 Unknown   \n",
       "4  20 out of 42      Resale     Unfurnished     West  Garden/Park, Main Road   \n",
       "\n",
       "   Bathroom  Balcony             Ownership  \n",
       "0         1        2               Unknown  \n",
       "1         2        2              Freehold  \n",
       "2         2        2              Freehold  \n",
       "3         1        1               Unknown  \n",
       "4         2        2  Co-operative Society  "
      ]
     },
     "execution_count": 3,
     "metadata": {},
     "output_type": "execute_result"
    }
   ],
   "source": [
    "df.head()"
   ]
  },
  {
   "cell_type": "code",
   "execution_count": 4,
   "metadata": {},
   "outputs": [
    {
     "data": {
      "text/plain": [
       "Index                     0\n",
       "Title                     0\n",
       "Description               0\n",
       "Amount in rupees       9684\n",
       "Price (in rupees)         0\n",
       "location                  0\n",
       "Carpet Area in sqft       0\n",
       "Status                    0\n",
       "Floor                     0\n",
       "Transaction               0\n",
       "Furnishing                0\n",
       "facing                    0\n",
       "overlooking               0\n",
       "Bathroom                  0\n",
       "Balcony                   0\n",
       "Ownership                 0\n",
       "dtype: int64"
      ]
     },
     "execution_count": 4,
     "metadata": {},
     "output_type": "execute_result"
    }
   ],
   "source": [
    "df.isna().sum()"
   ]
  },
  {
   "cell_type": "code",
   "execution_count": 5,
   "metadata": {},
   "outputs": [],
   "source": [
    "df.drop(columns=['Index','Title','Description','Status'],inplace=True)"
   ]
  },
  {
   "cell_type": "markdown",
   "metadata": {},
   "source": [
    "### Label Encoding"
   ]
  },
  {
   "cell_type": "code",
   "execution_count": 6,
   "metadata": {},
   "outputs": [],
   "source": [
    "from sklearn.preprocessing import LabelEncoder\n",
    "\n",
    "# Function to perform Label Encoding for multiple columns\n",
    "def label_encode_multiple(df, columns):\n",
    "    le = LabelEncoder()\n",
    "    for column in columns:\n",
    "        df[column] = le.fit_transform(df[column])\n",
    "    return df\n",
    "\n",
    "label_encode_columns = ['location','Transaction','Floor', 'Furnishing', 'facing', 'overlooking', 'Ownership']\n",
    "df = label_encode_multiple(df, label_encode_columns)"
   ]
  },
  {
   "cell_type": "code",
   "execution_count": 7,
   "metadata": {},
   "outputs": [
    {
     "name": "stdout",
     "output_type": "stream",
     "text": [
      "<class 'pandas.core.frame.DataFrame'>\n",
      "RangeIndex: 187531 entries, 0 to 187530\n",
      "Data columns (total 12 columns):\n",
      " #   Column               Non-Null Count   Dtype  \n",
      "---  ------               --------------   -----  \n",
      " 0   Amount in rupees     177847 non-null  float64\n",
      " 1   Price (in rupees)    187531 non-null  float64\n",
      " 2   location             187531 non-null  int64  \n",
      " 3   Carpet Area in sqft  187531 non-null  float64\n",
      " 4   Floor                187531 non-null  int64  \n",
      " 5   Transaction          187531 non-null  int64  \n",
      " 6   Furnishing           187531 non-null  int64  \n",
      " 7   facing               187531 non-null  int64  \n",
      " 8   overlooking          187531 non-null  int64  \n",
      " 9   Bathroom             187531 non-null  int64  \n",
      " 10  Balcony              187531 non-null  int64  \n",
      " 11  Ownership            187531 non-null  int64  \n",
      "dtypes: float64(3), int64(9)\n",
      "memory usage: 17.2 MB\n"
     ]
    }
   ],
   "source": [
    "df.info()"
   ]
  },
  {
   "cell_type": "code",
   "execution_count": 8,
   "metadata": {},
   "outputs": [
    {
     "name": "stderr",
     "output_type": "stream",
     "text": [
      "/tmp/ipykernel_60903/2720252716.py:3: FutureWarning: A value is trying to be set on a copy of a DataFrame or Series through chained assignment using an inplace method.\n",
      "The behavior will change in pandas 3.0. This inplace method will never work because the intermediate object on which we are setting values always behaves as a copy.\n",
      "\n",
      "For example, when doing 'df[col].method(value, inplace=True)', try using 'df.method({col: value}, inplace=True)' or df[col] = df[col].method(value) instead, to perform the operation inplace on the original object.\n",
      "\n",
      "\n",
      "  df['Amount in rupees'].fillna(mean_value, inplace=True)\n"
     ]
    }
   ],
   "source": [
    "# Fill NaN values with the mean of the column\n",
    "mean_value = df['Amount in rupees'].mean()\n",
    "df['Amount in rupees'].fillna(mean_value, inplace=True)"
   ]
  },
  {
   "cell_type": "markdown",
   "metadata": {},
   "source": [
    "## Standared Scaling "
   ]
  },
  {
   "cell_type": "code",
   "execution_count": 9,
   "metadata": {},
   "outputs": [],
   "source": [
    "from sklearn.preprocessing import StandardScaler\n",
    "# Standardization\n",
    "standard_scaler = StandardScaler()\n",
    "df_standardized = standard_scaler.fit_transform(df)\n",
    "df = pd.DataFrame(df_standardized, columns=df.columns)"
   ]
  },
  {
   "cell_type": "code",
   "execution_count": 10,
   "metadata": {},
   "outputs": [
    {
     "data": {
      "text/html": [
       "<div>\n",
       "<style scoped>\n",
       "    .dataframe tbody tr th:only-of-type {\n",
       "        vertical-align: middle;\n",
       "    }\n",
       "\n",
       "    .dataframe tbody tr th {\n",
       "        vertical-align: top;\n",
       "    }\n",
       "\n",
       "    .dataframe thead th {\n",
       "        text-align: right;\n",
       "    }\n",
       "</style>\n",
       "<table border=\"1\" class=\"dataframe\">\n",
       "  <thead>\n",
       "    <tr style=\"text-align: right;\">\n",
       "      <th></th>\n",
       "      <th>Amount in rupees</th>\n",
       "      <th>Price (in rupees)</th>\n",
       "      <th>location</th>\n",
       "      <th>Carpet Area in sqft</th>\n",
       "      <th>Floor</th>\n",
       "      <th>Transaction</th>\n",
       "      <th>Furnishing</th>\n",
       "      <th>facing</th>\n",
       "      <th>overlooking</th>\n",
       "      <th>Bathroom</th>\n",
       "      <th>Balcony</th>\n",
       "      <th>Ownership</th>\n",
       "    </tr>\n",
       "  </thead>\n",
       "  <tbody>\n",
       "    <tr>\n",
       "      <th>0</th>\n",
       "      <td>-0.202606</td>\n",
       "      <td>-6.108617e-02</td>\n",
       "      <td>1.881061</td>\n",
       "      <td>-0.333482</td>\n",
       "      <td>-1.415544</td>\n",
       "      <td>0.547069</td>\n",
       "      <td>1.076630</td>\n",
       "      <td>1.063822</td>\n",
       "      <td>1.057353</td>\n",
       "      <td>-1.653261</td>\n",
       "      <td>-0.000319</td>\n",
       "      <td>1.341873</td>\n",
       "    </tr>\n",
       "    <tr>\n",
       "      <th>1</th>\n",
       "      <td>-0.056796</td>\n",
       "      <td>2.397217e-01</td>\n",
       "      <td>1.881061</td>\n",
       "      <td>-0.345214</td>\n",
       "      <td>0.378898</td>\n",
       "      <td>0.547069</td>\n",
       "      <td>-0.458287</td>\n",
       "      <td>-1.146945</td>\n",
       "      <td>-1.327164</td>\n",
       "      <td>-0.492814</td>\n",
       "      <td>-0.000319</td>\n",
       "      <td>-0.743276</td>\n",
       "    </tr>\n",
       "    <tr>\n",
       "      <th>2</th>\n",
       "      <td>0.052560</td>\n",
       "      <td>3.824695e-01</td>\n",
       "      <td>1.881061</td>\n",
       "      <td>-0.212259</td>\n",
       "      <td>-1.352335</td>\n",
       "      <td>0.547069</td>\n",
       "      <td>1.076630</td>\n",
       "      <td>-1.146945</td>\n",
       "      <td>-1.327164</td>\n",
       "      <td>-0.492814</td>\n",
       "      <td>-0.000319</td>\n",
       "      <td>-0.743276</td>\n",
       "    </tr>\n",
       "    <tr>\n",
       "      <th>3</th>\n",
       "      <td>-0.246869</td>\n",
       "      <td>1.052378e-16</td>\n",
       "      <td>1.881061</td>\n",
       "      <td>-0.320448</td>\n",
       "      <td>-1.471730</td>\n",
       "      <td>0.547069</td>\n",
       "      <td>1.076630</td>\n",
       "      <td>1.063822</td>\n",
       "      <td>1.057353</td>\n",
       "      <td>-1.653261</td>\n",
       "      <td>-1.223020</td>\n",
       "      <td>1.341873</td>\n",
       "    </tr>\n",
       "  </tbody>\n",
       "</table>\n",
       "</div>"
      ],
      "text/plain": [
       "   Amount in rupees  Price (in rupees)  location  Carpet Area in sqft  \\\n",
       "0         -0.202606      -6.108617e-02  1.881061            -0.333482   \n",
       "1         -0.056796       2.397217e-01  1.881061            -0.345214   \n",
       "2          0.052560       3.824695e-01  1.881061            -0.212259   \n",
       "3         -0.246869       1.052378e-16  1.881061            -0.320448   \n",
       "\n",
       "      Floor  Transaction  Furnishing    facing  overlooking  Bathroom  \\\n",
       "0 -1.415544     0.547069    1.076630  1.063822     1.057353 -1.653261   \n",
       "1  0.378898     0.547069   -0.458287 -1.146945    -1.327164 -0.492814   \n",
       "2 -1.352335     0.547069    1.076630 -1.146945    -1.327164 -0.492814   \n",
       "3 -1.471730     0.547069    1.076630  1.063822     1.057353 -1.653261   \n",
       "\n",
       "    Balcony  Ownership  \n",
       "0 -0.000319   1.341873  \n",
       "1 -0.000319  -0.743276  \n",
       "2 -0.000319  -0.743276  \n",
       "3 -1.223020   1.341873  "
      ]
     },
     "execution_count": 10,
     "metadata": {},
     "output_type": "execute_result"
    }
   ],
   "source": [
    "df.head(4)"
   ]
  },
  {
   "cell_type": "code",
   "execution_count": 11,
   "metadata": {},
   "outputs": [],
   "source": [
    "df.to_csv('/teamspace/studios/this_studio/Data-Science---Practices/data/final_dataset.csv', index=False)"
   ]
  },
  {
   "cell_type": "code",
   "execution_count": null,
   "metadata": {},
   "outputs": [],
   "source": []
  }
 ],
 "metadata": {
  "language_info": {
   "name": "python"
  }
 },
 "nbformat": 4,
 "nbformat_minor": 2
}
